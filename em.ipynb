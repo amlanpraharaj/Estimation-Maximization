{
 "cells": [
  {
   "cell_type": "code",
   "execution_count": 1,
   "metadata": {
    "collapsed": true
   },
   "outputs": [],
   "source": [
    "import numpy as np"
   ]
  },
  {
   "cell_type": "code",
   "execution_count": null,
   "metadata": {
    "collapsed": true
   },
   "outputs": [],
   "source": [
    "#EM for log-normal distribution\n",
    "#Algorithm from AIMA\n",
    "\n",
    "class EM:\n",
    "    #initializing weights with ones\n",
    "    def __init__(self, data, n_dist, max_iterations):\n",
    "        self.size = n_dist\n",
    "        self.data = data\n",
    "        self.ele = len(data)\n",
    "        self.weight = np.ones((self.size,))\n",
    "        self.iterations = max_iterations\n",
    "        \n",
    "        #probabilities that i in gaussian-j\n",
    "        self.P = np.empty(len(data), n_dist)\n",
    "        self.mean = np.zeros(n_dist) \n",
    "        self.std = np.ones(n_dist)\n",
    "        self.n = np.zeros((self.ele,))\n",
    "        \n",
    "    def get_E(self):\n",
    "        #calculate P(j|ith Gaussian)\n",
    "        for i in range(self.size):\n",
    "            self.P[:,i] = np.random.lognormal(self.mean[i], self.std[i]) * self.data[i]\n",
    "            \n",
    "        #multiplying with weight parameters\n",
    "        for i in range(self.size):\n",
    "            self.P[:,i] = self.P[:,i] * self.weight[i]\n",
    "        \n",
    "        #calculating number of data points assigned to gaussian i\n",
    "        n = np.zeros((self.ele,))\n",
    "        for i in range(self.size):\n",
    "            for j in range(self.ele):\n",
    "                n[i] += self.P[j][i]\n",
    "        self.n = n\n",
    "        \n",
    "    def get_M(self):\n",
    "        #recalculate mean\n",
    "        self.mean = np.zeros((self.size,))\n",
    "        for i in range(self.self):\n",
    "            for j in range(self.ele):\n",
    "                self.mean[i] += self.P[i][j] * self.data[j] / self.n[i]\n",
    "            \n",
    "        #recalculate std\n",
    "        self.std = np.zeros((self.size,))\n",
    "        for i in range(self.size):\n",
    "            for j in range(self.ele):\n",
    "                self.std[i] += self.P[i][j] * ((self.data[j] - self.mean[i]) ** 2) / self.n[i]\n",
    "                \n",
    "        #new weights\n",
    "        self.weight = self.n / self.ele"
   ]
  }
 ],
 "metadata": {
  "kernelspec": {
   "display_name": "Python 3",
   "language": "python",
   "name": "python3"
  },
  "language_info": {
   "codemirror_mode": {
    "name": "ipython",
    "version": 3
   },
   "file_extension": ".py",
   "mimetype": "text/x-python",
   "name": "python",
   "nbconvert_exporter": "python",
   "pygments_lexer": "ipython3",
   "version": "3.6.1"
  }
 },
 "nbformat": 4,
 "nbformat_minor": 2
}
